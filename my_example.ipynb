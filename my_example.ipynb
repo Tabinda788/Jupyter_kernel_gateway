{
 "cells": [
  {
   "cell_type": "markdown",
   "id": "676acae7",
   "metadata": {},
   "source": [
    "# Importing necessary libraries"
   ]
  },
  {
   "cell_type": "code",
   "execution_count": 1,
   "id": "c8e6a56d",
   "metadata": {},
   "outputs": [],
   "source": [
    "import json\n",
    "import requests\n",
    "import numpy as np\n",
    "import uuid\n",
    "import math"
   ]
  },
  {
   "cell_type": "markdown",
   "id": "9f3256e1",
   "metadata": {},
   "source": [
    "# Global dictionary to store contact list"
   ]
  },
  {
   "cell_type": "code",
   "execution_count": 2,
   "id": "d4b02e0d",
   "metadata": {},
   "outputs": [],
   "source": [
    "contacts = {}\n",
    "fields = ['name', 'phone', 'address']"
   ]
  },
  {
   "cell_type": "code",
   "execution_count": 3,
   "id": "a1a9153a",
   "metadata": {},
   "outputs": [],
   "source": [
    "REQUEST = json.dumps({\n",
    "    'body': {\n",
    "        'name': 'Jane Doe',\n",
    "        'phone': '888-555-5245',\n",
    "        'address': '123 Bellview Drive, Somewhere, NC'\n",
    "    }\n",
    "})"
   ]
  },
  {
   "cell_type": "markdown",
   "id": "8371221a",
   "metadata": {},
   "source": [
    "# Create a contact"
   ]
  },
  {
   "cell_type": "code",
   "execution_count": 4,
   "id": "d6a6d511",
   "metadata": {},
   "outputs": [
    {
     "name": "stdout",
     "output_type": "stream",
     "text": [
      "{\"f7ac368a-c22f-41dd-ad87-8f74cb27c598\": {\"name\": \"Jane Doe\", \"phone\": \"888-555-5245\", \"address\": \"123 Bellview Drive, Somewhere, NC\"}}\n"
     ]
    }
   ],
   "source": [
    "# POST /contacts\n",
    "\n",
    "req = json.loads(REQUEST)\n",
    "body = req['body']\n",
    "# generate a new contact ID\n",
    "new_contact_id = str(uuid.uuid4())\n",
    "# put what we can about the contact in the dictionary\n",
    "contacts[new_contact_id] = {field: body.get(field) for field in fields}\n",
    "print(json.dumps(contacts))"
   ]
  },
  {
   "cell_type": "code",
   "execution_count": 5,
   "id": "b52bf483",
   "metadata": {},
   "outputs": [
    {
     "name": "stdout",
     "output_type": "stream",
     "text": [
      "hello world\n"
     ]
    }
   ],
   "source": [
    "# GET /hello/world\n",
    "print(\"hello world\")"
   ]
  },
  {
   "cell_type": "code",
   "execution_count": 6,
   "id": "e6911398",
   "metadata": {},
   "outputs": [],
   "source": [
    "REQUEST = json.dumps({\n",
    "    'body': {\n",
    "        'name': 'Jane and John Doe',\n",
    "        'address': '321 Viewbell Lane, Somewhere Else, SC'\n",
    "    },\n",
    "    'path': {\n",
    "        'contact_id': globals().get('new_contact_id', '')\n",
    "    }\n",
    "})"
   ]
  },
  {
   "cell_type": "markdown",
   "id": "0de43be8",
   "metadata": {},
   "source": [
    "# Update a contact"
   ]
  },
  {
   "cell_type": "code",
   "execution_count": 7,
   "id": "4018b73f",
   "metadata": {},
   "outputs": [
    {
     "name": "stdout",
     "output_type": "stream",
     "text": [
      "{\"contact_id\": {\"name\": \"Jane and John Doe\", \"phone\": \"888-555-5245\", \"address\": \"321 Viewbell Lane, Somewhere Else, SC\"}}\n"
     ]
    }
   ],
   "source": [
    "# PUT /contacts:contact_id\n",
    "req = json.loads(REQUEST)\n",
    "body = req['body']\n",
    "\n",
    "contact_id = req['path']['contact_id']\n",
    "if contact_id in contacts:\n",
    "    contacts[contact_id].update({field: body[field] for field in fields if field in body})\n",
    "    status = 200\n",
    "    print(json.dumps({'contact_id': contacts[contact_id]}))\n",
    "else:\n",
    "    status = 404"
   ]
  },
  {
   "cell_type": "code",
   "execution_count": 8,
   "id": "4210a595",
   "metadata": {},
   "outputs": [
    {
     "data": {
      "text/plain": [
       "{'f7ac368a-c22f-41dd-ad87-8f74cb27c598': {'name': 'Jane and John Doe',\n",
       "  'phone': '888-555-5245',\n",
       "  'address': '321 Viewbell Lane, Somewhere Else, SC'}}"
      ]
     },
     "execution_count": 8,
     "metadata": {},
     "output_type": "execute_result"
    }
   ],
   "source": [
    "contacts"
   ]
  },
  {
   "cell_type": "code",
   "execution_count": 9,
   "id": "e0b302a7",
   "metadata": {},
   "outputs": [
    {
     "name": "stdout",
     "output_type": "stream",
     "text": [
      "{\"status\": 200, \"headers\": {\"Content-Type\": \"application/json\"}}\n"
     ]
    }
   ],
   "source": [
    "# ResponseInfo PUT /contacts/:contact_id\n",
    "print(json.dumps({\n",
    "    \"status\" : status,\n",
    "    \"headers\" : {\n",
    "        \"Content-Type\" : \"application/json\"\n",
    "    }\n",
    "}))"
   ]
  },
  {
   "cell_type": "markdown",
   "id": "9881ce4d",
   "metadata": {},
   "source": [
    "# Delete a contact"
   ]
  },
  {
   "cell_type": "code",
   "execution_count": 10,
   "id": "b37abdfc",
   "metadata": {},
   "outputs": [
    {
     "name": "stdout",
     "output_type": "stream",
     "text": [
      "{}\n"
     ]
    }
   ],
   "source": [
    "# DELETE /contacts/:contact_id\n",
    "\n",
    "req = json.loads(REQUEST)\n",
    "contact_id = req['path']['contact_id']\n",
    "if contact_id in contacts:\n",
    "    del contacts[contact_id]\n",
    "    # HTTP status code for no body\n",
    "    status = 204\n",
    "    print(json.dumps(contacts))\n",
    "else:\n",
    "    # HTTP status code for not found\n",
    "    status = 404"
   ]
  },
  {
   "cell_type": "markdown",
   "id": "ca281d7b",
   "metadata": {},
   "source": [
    "# Get all the contacts"
   ]
  },
  {
   "cell_type": "code",
   "execution_count": 11,
   "id": "69ab264d",
   "metadata": {},
   "outputs": [
    {
     "name": "stdout",
     "output_type": "stream",
     "text": [
      "{}\n"
     ]
    }
   ],
   "source": [
    "# GET /contacts\n",
    "print(json.dumps(contacts))"
   ]
  }
 ],
 "metadata": {
  "kernelspec": {
   "display_name": "Python 3 (ipykernel)",
   "language": "python",
   "name": "python3"
  },
  "language_info": {
   "codemirror_mode": {
    "name": "ipython",
    "version": 3
   },
   "file_extension": ".py",
   "mimetype": "text/x-python",
   "name": "python",
   "nbconvert_exporter": "python",
   "pygments_lexer": "ipython3",
   "version": "3.8.8"
  }
 },
 "nbformat": 4,
 "nbformat_minor": 5
}
